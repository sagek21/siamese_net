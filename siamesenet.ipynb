{
 "cells": [
  {
   "cell_type": "code",
   "execution_count": 3,
   "metadata": {},
   "outputs": [],
   "source": [
    "##predict icebergs vs ships by using a siamese network analyzing satellite images\n",
    "\n",
    "from keras.layers import Input, Conv2D, Lambda, merge, Dense, Flatten,MaxPooling2D,Activation, Dropout\n",
    "from keras.models import Model, Sequential\n",
    "from keras.regularizers import l2\n",
    "from keras import backend as K\n",
    "from keras.optimizers import Adam\n",
    "from skimage.io import imshow\n",
    "import matplotlib.pyplot as plt\n",
    "import numpy as np\n",
    "import pandas as pd\n",
    "import random"
   ]
  },
  {
   "cell_type": "code",
   "execution_count": 218,
   "metadata": {},
   "outputs": [
    {
     "name": "stdout",
     "output_type": "stream",
     "text": [
      "3113 samples\n"
     ]
    }
   ],
   "source": [
    "npz = np.load('./data/input_data.npz')\n",
    "X_train = npz['X_train']\n",
    "Y_train = npz['Y_train']\n",
    "del npz\n",
    "print (str(Y_train.shape[0]-1000) + \" samples\") "
   ]
  },
  {
   "cell_type": "code",
   "execution_count": 9,
   "metadata": {},
   "outputs": [],
   "source": [
    "# We have 2 inputs, 1 for each picture\n",
    "left_input = Input((75,75,3))\n",
    "right_input = Input((75,75,3))\n",
    "\n",
    "# same network architecture for both left and right\n",
    "convnet = Sequential([\n",
    "    Conv2D(5,3, input_shape=(75,75,3)),\n",
    "    Activation('relu'),\n",
    "    MaxPooling2D(),\n",
    "    Conv2D(5,3),\n",
    "    Activation('relu'),\n",
    "    MaxPooling2D(),\n",
    "    Conv2D(7,2),\n",
    "    Activation('relu'),\n",
    "    MaxPooling2D(),\n",
    "    Conv2D(7,2),\n",
    "    Activation('relu'),\n",
    "    Flatten(),\n",
    "    Dense(18),\n",
    "    Activation('sigmoid')\n",
    "])\n",
    "\n",
    "encoded_l = convnet(left_input)\n",
    "encoded_r = convnet(right_input)\n",
    "\n",
    "# L1 distance of left and right encoded\n",
    "L1_layer = Lambda(lambda tensor:K.abs(tensor[0] - tensor[1]))\n",
    "\n",
    "# Add distance to network\n",
    "L1_distance = L1_layer([encoded_l, encoded_r])\n",
    "\n",
    "prediction = Dense(1,activation='sigmoid')(L1_distance)\n",
    "siamese_net = Model(inputs=[left_input,right_input],outputs=prediction)\n",
    "\n",
    "optimizer = Adam(0.001, decay=2.5e-4)\n",
    "\n",
    "siamese_net.compile(loss=\"binary_crossentropy\",optimizer=optimizer,metrics=['accuracy'])"
   ]
  },
  {
   "cell_type": "code",
   "execution_count": 10,
   "metadata": {},
   "outputs": [],
   "source": [
    "#refromatting training data\n",
    "image_list = np.split(X_train[:1000],1000)\n",
    "label_list = np.split(Y_train[:1000],1000)\n",
    "\n",
    "left_input = []\n",
    "right_input = []\n",
    "targets = []\n",
    "\n",
    "#Number of pairs per image\n",
    "pairs = 5\n",
    "#Let's create the new dataset to train on\n",
    "for i in range(len(label_list)):\n",
    "    for _ in range(pairs):\n",
    "        compare_to = i\n",
    "        while compare_to == i: \n",
    "            compare_to = random.randint(0,999)\n",
    "        left_input.append(image_list[i])\n",
    "        right_input.append(image_list[compare_to])\n",
    "        if label_list[i] == label_list[compare_to]:\n",
    "            targets.append(1.)\n",
    "        else:\n",
    "            targets.append(0.)\n",
    "            \n",
    "left_input = np.squeeze(np.array(left_input))\n",
    "right_input = np.squeeze(np.array(right_input))\n",
    "targets = np.squeeze(np.array(targets))\n",
    "\n",
    "iceimage = X_train[101]\n",
    "test_left = []\n",
    "test_right = []\n",
    "test_targets = []\n",
    "\n",
    "for i in range(Y_train.shape[0]-1000):\n",
    "    test_left.append(iceimage)\n",
    "    test_right.append(X_train[i+1000])\n",
    "    test_targets.append(Y_train[i+1000])\n",
    "\n",
    "test_left = np.squeeze(np.array(test_left))\n",
    "test_right = np.squeeze(np.array(test_right))\n",
    "test_targets = np.squeeze(np.array(test_targets))"
   ]
  },
  {
   "cell_type": "code",
   "execution_count": 11,
   "metadata": {},
   "outputs": [
    {
     "name": "stdout",
     "output_type": "stream",
     "text": [
      "__________________________________________________________________________________________________\n",
      "Layer (type)                    Output Shape         Param #     Connected to                     \n",
      "==================================================================================================\n",
      "input_1 (InputLayer)            (None, 75, 75, 3)    0                                            \n",
      "__________________________________________________________________________________________________\n",
      "input_2 (InputLayer)            (None, 75, 75, 3)    0                                            \n",
      "__________________________________________________________________________________________________\n",
      "sequential_1 (Sequential)       (None, 18)           6912        input_1[0][0]                    \n",
      "                                                                 input_2[0][0]                    \n",
      "__________________________________________________________________________________________________\n",
      "lambda_1 (Lambda)               (None, 18)           0           sequential_1[1][0]               \n",
      "                                                                 sequential_1[2][0]               \n",
      "__________________________________________________________________________________________________\n",
      "dense_2 (Dense)                 (None, 1)            19          lambda_1[0][0]                   \n",
      "==================================================================================================\n",
      "Total params: 6,931\n",
      "Trainable params: 6,931\n",
      "Non-trainable params: 0\n",
      "__________________________________________________________________________________________________\n"
     ]
    }
   ],
   "source": [
    "siamese_net.summary()"
   ]
  },
  {
   "cell_type": "code",
   "execution_count": 12,
   "metadata": {
    "scrolled": true
   },
   "outputs": [
    {
     "name": "stdout",
     "output_type": "stream",
     "text": [
      "Train on 5000 samples, validate on 3113 samples\n",
      "Epoch 1/30\n",
      "5000/5000 [==============================] - 20s 4ms/step - loss: 0.6859 - acc: 0.5464 - val_loss: 0.6910 - val_acc: 0.5445\n",
      "Epoch 2/30\n",
      "5000/5000 [==============================] - 20s 4ms/step - loss: 0.6308 - acc: 0.6604 - val_loss: 0.6922 - val_acc: 0.5702\n",
      "Epoch 3/30\n",
      "5000/5000 [==============================] - 18s 4ms/step - loss: 0.5512 - acc: 0.7356 - val_loss: 0.6948 - val_acc: 0.5577\n",
      "Epoch 4/30\n",
      "5000/5000 [==============================] - 19s 4ms/step - loss: 0.4947 - acc: 0.7808 - val_loss: 0.4948 - val_acc: 0.7877\n",
      "Epoch 5/30\n",
      "5000/5000 [==============================] - 18s 4ms/step - loss: 0.4568 - acc: 0.8046 - val_loss: 0.5914 - val_acc: 0.7167\n",
      "Epoch 6/30\n",
      "5000/5000 [==============================] - 18s 4ms/step - loss: 0.4274 - acc: 0.8236 - val_loss: 0.4947 - val_acc: 0.8095\n",
      "Epoch 7/30\n",
      "5000/5000 [==============================] - 17s 3ms/step - loss: 0.4050 - acc: 0.8302 - val_loss: 0.4668 - val_acc: 0.8108\n",
      "Epoch 8/30\n",
      "5000/5000 [==============================] - 19s 4ms/step - loss: 0.3824 - acc: 0.8392 - val_loss: 0.4525 - val_acc: 0.8134\n",
      "Epoch 9/30\n",
      "5000/5000 [==============================] - 19s 4ms/step - loss: 0.3702 - acc: 0.8470 - val_loss: 0.4601 - val_acc: 0.8108\n",
      "Epoch 10/30\n",
      "5000/5000 [==============================] - 18s 4ms/step - loss: 0.3516 - acc: 0.8554 - val_loss: 0.4751 - val_acc: 0.8098\n",
      "Epoch 11/30\n",
      "5000/5000 [==============================] - 18s 4ms/step - loss: 0.3390 - acc: 0.8598 - val_loss: 0.4745 - val_acc: 0.8082\n",
      "Epoch 12/30\n",
      "5000/5000 [==============================] - 19s 4ms/step - loss: 0.3286 - acc: 0.8630 - val_loss: 0.5027 - val_acc: 0.8150\n",
      "Epoch 13/30\n",
      "5000/5000 [==============================] - 19s 4ms/step - loss: 0.3119 - acc: 0.8690 - val_loss: 0.5034 - val_acc: 0.8124\n",
      "Epoch 14/30\n",
      "5000/5000 [==============================] - 19s 4ms/step - loss: 0.3021 - acc: 0.8786 - val_loss: 0.5029 - val_acc: 0.8124\n",
      "Epoch 15/30\n",
      "5000/5000 [==============================] - 19s 4ms/step - loss: 0.2899 - acc: 0.8790 - val_loss: 0.5077 - val_acc: 0.8124\n",
      "Epoch 16/30\n",
      "5000/5000 [==============================] - 19s 4ms/step - loss: 0.2776 - acc: 0.8842 - val_loss: 0.5187 - val_acc: 0.8021\n",
      "Epoch 17/30\n",
      "5000/5000 [==============================] - 18s 4ms/step - loss: 0.2655 - acc: 0.8894 - val_loss: 0.5696 - val_acc: 0.8060\n",
      "Epoch 18/30\n",
      "5000/5000 [==============================] - 19s 4ms/step - loss: 0.2575 - acc: 0.8964 - val_loss: 0.5534 - val_acc: 0.8024\n",
      "Epoch 19/30\n",
      "5000/5000 [==============================] - 19s 4ms/step - loss: 0.2476 - acc: 0.8988 - val_loss: 0.5918 - val_acc: 0.7996\n",
      "Epoch 20/30\n",
      "5000/5000 [==============================] - 19s 4ms/step - loss: 0.2381 - acc: 0.9076 - val_loss: 0.5252 - val_acc: 0.7996\n",
      "Epoch 21/30\n",
      "5000/5000 [==============================] - 19s 4ms/step - loss: 0.2302 - acc: 0.9112 - val_loss: 0.5918 - val_acc: 0.8040\n",
      "Epoch 22/30\n",
      "5000/5000 [==============================] - 19s 4ms/step - loss: 0.2240 - acc: 0.9138 - val_loss: 0.6051 - val_acc: 0.7909\n",
      "Epoch 23/30\n",
      "5000/5000 [==============================] - 19s 4ms/step - loss: 0.2160 - acc: 0.9166 - val_loss: 0.6287 - val_acc: 0.7967\n",
      "Epoch 24/30\n",
      "5000/5000 [==============================] - 19s 4ms/step - loss: 0.2121 - acc: 0.9198 - val_loss: 0.6350 - val_acc: 0.8015\n",
      "Epoch 25/30\n",
      "5000/5000 [==============================] - 21s 4ms/step - loss: 0.2041 - acc: 0.9248 - val_loss: 0.6585 - val_acc: 0.7989\n",
      "Epoch 26/30\n",
      "5000/5000 [==============================] - 21s 4ms/step - loss: 0.1978 - acc: 0.9268 - val_loss: 0.6518 - val_acc: 0.7976\n",
      "Epoch 27/30\n",
      "5000/5000 [==============================] - 19s 4ms/step - loss: 0.1910 - acc: 0.9306 - val_loss: 0.6715 - val_acc: 0.7996\n",
      "Epoch 28/30\n",
      "5000/5000 [==============================] - 19s 4ms/step - loss: 0.1866 - acc: 0.9328 - val_loss: 0.6868 - val_acc: 0.7970\n",
      "Epoch 29/30\n",
      "5000/5000 [==============================] - 19s 4ms/step - loss: 0.1813 - acc: 0.9370 - val_loss: 0.6808 - val_acc: 0.7973\n",
      "Epoch 30/30\n",
      "5000/5000 [==============================] - 19s 4ms/step - loss: 0.1768 - acc: 0.9390 - val_loss: 0.6843 - val_acc: 0.7973\n"
     ]
    },
    {
     "data": {
      "text/plain": [
       "<keras.callbacks.History at 0x1a45bb7908>"
      ]
     },
     "execution_count": 12,
     "metadata": {},
     "output_type": "execute_result"
    }
   ],
   "source": [
    "siamese_net.fit([left_input,right_input], targets,\n",
    "          batch_size=16,\n",
    "          epochs=30,\n",
    "          verbose=1,\n",
    "          validation_data=([test_left,test_right],test_targets))"
   ]
  },
  {
   "cell_type": "code",
   "execution_count": 193,
   "metadata": {},
   "outputs": [],
   "source": [
    "predictions = siamese_net.predict([test_left, test_right])"
   ]
  },
  {
   "cell_type": "code",
   "execution_count": 194,
   "metadata": {},
   "outputs": [
    {
     "data": {
      "text/plain": [
       "array([[0.998412  ],\n",
       "       [0.04992351],\n",
       "       [0.99858814],\n",
       "       ...,\n",
       "       [0.00329501],\n",
       "       [0.9985507 ],\n",
       "       [0.01917422]], dtype=float32)"
      ]
     },
     "execution_count": 194,
     "metadata": {},
     "output_type": "execute_result"
    }
   ],
   "source": [
    "predictions"
   ]
  },
  {
   "cell_type": "code",
   "execution_count": 200,
   "metadata": {},
   "outputs": [],
   "source": [
    "def predict(num):\n",
    "    i#mshow(np.squeeze(right_input[num,:,:,2]))#Looking at the combined channel\n",
    "    imshow(np.squeeze(test_left[num,:,:,2]))\n",
    "    plt.show()\n",
    "    labels = ['Ship','Iceberg']  #0 : ship; 1: iceberg \n",
    "    print ('This is:',labels[int(test_targets[num])])\n",
    "    print('Siamese network predicts: ' + labels[round(float(predictions[num]))])"
   ]
  },
  {
   "cell_type": "code",
   "execution_count": 215,
   "metadata": {},
   "outputs": [
    {
     "name": "stderr",
     "output_type": "stream",
     "text": [
      "/anaconda3/lib/python3.6/site-packages/skimage/io/_plugins/matplotlib_plugin.py:51: FutureWarning: Conversion of the second argument of issubdtype from `float` to `np.floating` is deprecated. In future, it will be treated as `np.float64 == np.dtype(float).type`.\n",
      "  out_of_range_float = (np.issubdtype(image.dtype, np.float) and\n"
     ]
    },
    {
     "data": {
      "image/png": "[encoded data removed]",
      "text/plain": [
       "<matplotlib.figure.Figure at 0x1acbe7d710>"
      ]
     },
     "metadata": {},
     "output_type": "display_data"
    },
    {
     "name": "stdout",
     "output_type": "stream",
     "text": [
      "This is: Ship\n",
      "Siamese network predicts: Ship\n"
     ]
    }
   ],
   "source": [
    "predict(67)"
   ]
  },
  {
   "cell_type": "code",
   "execution_count": null,
   "metadata": {},
   "outputs": [],
   "source": []
  },
  {
   "cell_type": "code",
   "execution_count": null,
   "metadata": {},
   "outputs": [],
   "source": []
  }
 ],
 "metadata": {
  "kernelspec": {
   "display_name": "Python 3",
   "language": "python",
   "name": "python3"
  },
  "language_info": {
   "codemirror_mode": {
    "name": "ipython",
    "version": 3
   },
   "file_extension": ".py",
   "mimetype": "text/x-python",
   "name": "python",
   "nbconvert_exporter": "python",
   "pygments_lexer": "ipython3",
   "version": "3.6.4"
  }
 },
 "nbformat": 4,
 "nbformat_minor": 2
}
